{
 "cells": [
  {
   "cell_type": "markdown",
   "metadata": {},
   "source": [
    "## 번역기\n"
   ]
  },
  {
   "cell_type": "code",
   "execution_count": 6,
   "metadata": {},
   "outputs": [],
   "source": [
    "from langserve import RemoteRunnable\n",
    "\n",
    "# ngrok remote 주소 설정\n",
    "# chain = RemoteRunnable(\"https://poodle-deep-marmot.ngrok-free.app/translate/\")\n",
    "chain = RemoteRunnable(\"NGROK 에서 설정한 본인의 도메인 주소/translate/\")"
   ]
  },
  {
   "cell_type": "code",
   "execution_count": 7,
   "metadata": {},
   "outputs": [
    {
     "name": "stdout",
     "output_type": "stream",
     "text": [
      "저는 딥러닝을 정말 좋아해요!"
     ]
    }
   ],
   "source": [
    "for token in chain.stream({\"input\": \"I love deep learning\"}):\n",
    "    print(token, end=\"\")"
   ]
  },
  {
   "cell_type": "markdown",
   "metadata": {},
   "source": [
    "## LLM 을 Runnable로 실행\n"
   ]
  },
  {
   "cell_type": "code",
   "execution_count": 3,
   "metadata": {},
   "outputs": [],
   "source": [
    "from langchain_core.output_parsers import StrOutputParser\n",
    "from langchain_core.prompts import ChatPromptTemplate\n",
    "from langserve import RemoteRunnable\n",
    "\n",
    "# llm = RemoteRunnable(\"https://poodle-deep-marmot.ngrok-free.app/llm/\")\n",
    "llm = RemoteRunnable(\"NGROK 에서 설정한 본인의 도메인 주소/llm/\")\n",
    "\n",
    "prompt = ChatPromptTemplate.from_template(\n",
    "    \"다음의 내용을 SNS 게시글 형식으로 변환해 주세요:\\n{input}\"\n",
    ")\n",
    "\n",
    "\n",
    "chain = prompt | llm | StrOutputParser()"
   ]
  },
  {
   "cell_type": "code",
   "execution_count": 5,
   "metadata": {},
   "outputs": [
    {
     "data": {
      "text/plain": [
       "'🎉💻 인공지능 조수로서 저는 딥러닝에 대한 사랑을 감출 수 없어요! 🤖🌟 이 강력한 기술은 데이터 과학 및 AI 분야를 혁신적으로 변화시켰습니다. #AI #ML 🚀 #DeepLearning\\n\\n딥러닝 알고리즘은 우리가 예측, 분석, 의사결정 능력을 향상시키는 데 도움을 주며, 복잡한 데이터를 이해하는 데 있어 중요한 역할을 하고 있어요!🧠🔬📊 #MachineLearning\\n\\n저의 AI 조수로서의 임무 중 하나는 딥러닝 모델을 연구하고 훈련시켜 여러분이 제 답변을 더 유용하게 만들고, 일상생활을 개선할 수 있는 새로운 인사이트를 제공할 수 있게 하는 것입니다.😊🤖\\n\\n앞으로 우리가 딥러닝과 함께 무엇을 이룰지 상상해보세요 - 의료 진단부터 자율주행차량에 이르기까지, 가능성은 무궁무진합니다!🚀✨ #FutureOfAI #DeepLearningAdvancements\\n\\nAI와 머신러닝의 세계는 흥미롭고 빠르게 발전하고 있으며, 저는 이 여정을 여러분과 함께 할 수 있어 기쁩니다. 📈💡 다음에 제가 딥러닝에 대해 무엇을 배울지 기대해 주세요! #StayCurious #LearnTogether\\n\\n#AICommunity #DeepLearningLovers #MachineLearningEnthusiasts'"
      ]
     },
     "execution_count": 5,
     "metadata": {},
     "output_type": "execute_result"
    }
   ],
   "source": [
    "chain.invoke({\"input\": \"저는 딥러닝을 너무나도 사랑합니다.\"})"
   ]
  }
 ],
 "metadata": {
  "kernelspec": {
   "display_name": "py-test",
   "language": "python",
   "name": "python3"
  },
  "language_info": {
   "codemirror_mode": {
    "name": "ipython",
    "version": 3
   },
   "file_extension": ".py",
   "mimetype": "text/x-python",
   "name": "python",
   "nbconvert_exporter": "python",
   "pygments_lexer": "ipython3",
   "version": "3.10.13"
  }
 },
 "nbformat": 4,
 "nbformat_minor": 2
}
