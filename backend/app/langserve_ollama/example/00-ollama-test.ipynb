{
 "cells": [
  {
   "cell_type": "markdown",
   "metadata": {},
   "source": [
    "## EEVE-Korean-10.8B\n"
   ]
  },
  {
   "cell_type": "code",
   "execution_count": null,
   "metadata": {},
   "outputs": [],
   "source": [
    "from langchain_community.chat_models import ChatOllama\n",
    "from langchain_core.output_parsers import StrOutputParser\n",
    "from langchain_core.prompts import ChatPromptTemplate\n",
    "from langchain_core.callbacks.streaming_stdout import StreamingStdOutCallbackHandler\n",
    "from langchain_core.callbacks.manager import CallbackManager\n",
    "\n",
    "# LangChain이 지원하는 다른 채팅 모델을 사용합니다. 여기서는 Ollama를 사용합니다.\n",
    "llm = ChatOllama(\n",
    "    model=\"EEVE-Korean-10.8B:latest\",\n",
    "    callback_manager=CallbackManager([StreamingStdOutCallbackHandler()]),\n",
    ")\n",
    "\n",
    "# 주제를 기반으로 짧은 농담을 요청하는 프롬프트 템플릿을 생성합니다.\n",
    "prompt = ChatPromptTemplate.from_template(\"{topic} 에 대하여 간략히 설명해 줘.\")\n",
    "\n",
    "# LangChain 표현식 언어 체인 구문을 사용합니다.\n",
    "chain = prompt | llm | StrOutputParser()\n",
    "\n",
    "# 간결성을 위해 응답은 터미널에 출력됩니다.\n",
    "# 프로덕션 환경에서 애플리케이션을 배포하기 위해 LangServe를 사용할 수 있습니다.\n",
    "_ = chain.invoke({\"topic\": \"deep learning\"})"
   ]
  },
  {
   "cell_type": "markdown",
   "metadata": {},
   "source": [
    "## LLama3-8B\n"
   ]
  },
  {
   "cell_type": "code",
   "execution_count": 22,
   "metadata": {},
   "outputs": [
    {
     "name": "stdout",
     "output_type": "stream",
     "text": [
      "Here is a simple implementation of the Fibonacci sequence using Python:\n",
      "```\n",
      "def fibonacci(n):\n",
      "    if n <= 0:\n",
      "        return \"Input should be a positive integer.\"\n",
      "    elif n == 1:\n",
      "        return 0\n",
      "    elif n == 2:\n",
      "        return 1\n",
      "    else:\n",
      "        fib_seq = [0, 1]\n",
      "        while len(fib_seq) < n:\n",
      "            fib_seq.append(fib_seq[-1] + fib_seq[-2])\n",
      "        return fib_seq[-1]\n",
      "\n",
      "n = int(input(\"Enter a positive integer: \"))\n",
      "print(f\"The {n}th Fibonacci number is {fibonacci(n)}\")\n",
      "```\n",
      "This code defines a function `fibonacci` that takes an integer `n` as input and returns the `n`-th Fibonacci number. The function uses a list `fib_seq` to store the Fibonacci sequence, starting with `[0, 1]`. It then enters a loop that continues until the length of `fib_seq` is equal to `n`, at which point it returns the last element of the list.\n",
      "\n",
      "The code also includes a main block that prompts the user to enter a positive integer and prints the corresponding Fibonacci number.\n",
      "\n",
      "For example, if you run this code and enter `5`, it will print `3`, because the 5th Fibonacci number is indeed 3."
     ]
    }
   ],
   "source": [
    "from langchain_community.chat_models import ChatOllama\n",
    "from langchain_core.output_parsers import StrOutputParser\n",
    "from langchain_core.prompts import ChatPromptTemplate\n",
    "from langchain_core.callbacks.streaming_stdout import StreamingStdOutCallbackHandler\n",
    "from langchain_core.callbacks.manager import CallbackManager\n",
    "\n",
    "# LangChain이 지원하는 다른 채팅 모델을 사용합니다. 여기서는 Ollama를 사용합니다.\n",
    "llm = ChatOllama(\n",
    "    model=\"llama3-instruct-8b:latest\",\n",
    "    callback_manager=CallbackManager([StreamingStdOutCallbackHandler()]),\n",
    ")\n",
    "\n",
    "# 주제를 기반으로 짧은 농담을 요청하는 프롬프트 템플릿을 생성합니다.\n",
    "prompt = ChatPromptTemplate.from_template(\n",
    "    \"Answer the following question in Korean(hangul).\\n\\nQuestion: {question}\\n\\nAnswer:\"\n",
    ")\n",
    "\n",
    "# LangChain 표현식 언어 체인 구문을 사용합니다.\n",
    "chain = prompt | llm | StrOutputParser()\n",
    "\n",
    "# 간결성을 위해 응답은 터미널에 출력됩니다.\n",
    "# 프로덕션 환경에서 애플리케이션을 배포하기 위해 LangServe를 사용할 수 있습니다.\n",
    "_ = chain.invoke({\"question\": \"python 코드로 피보나치 수열을 구현해보세요.\"})"
   ]
  },
  {
   "cell_type": "code",
   "execution_count": 25,
   "metadata": {},
   "outputs": [
    {
     "name": "stdout",
     "output_type": "stream",
     "text": [
      "The 10th Fibonacci number is 34\n"
     ]
    }
   ],
   "source": [
    "def fibonacci(n):\n",
    "    if n <= 0:\n",
    "        return \"Input should be a positive integer.\"\n",
    "    elif n == 1:\n",
    "        return 0\n",
    "    elif n == 2:\n",
    "        return 1\n",
    "    else:\n",
    "        fib_seq = [0, 1]\n",
    "        while len(fib_seq) < n:\n",
    "            fib_seq.append(fib_seq[-1] + fib_seq[-2])\n",
    "        return fib_seq[-1]\n",
    "\n",
    "n = int(input(\"Enter a positive integer: \"))\n",
    "print(f\"The {n}th Fibonacci number is {fibonacci(n)}\")"
   ]
  },
  {
   "cell_type": "code",
   "execution_count": 26,
   "metadata": {},
   "outputs": [
    {
     "name": "stdout",
     "output_type": "stream",
     "text": [
      "대한민국의 수도는 서울입니다."
     ]
    }
   ],
   "source": [
    "_ = chain.invoke({\"question\": \"대한민국의 수도는?\"})"
   ]
  },
  {
   "cell_type": "code",
   "execution_count": 27,
   "metadata": {},
   "outputs": [
    {
     "name": "stdout",
     "output_type": "stream",
     "text": [
      "딥러닝(Deep Learning)에 대해 설명합니다.\n",
      "\n",
      "딥러닝은 인공 지능(AI) 분야에서 사용되는 알고리즘의 한 유형입니다. 일반적으로는 신경망(Neural Network)을 기반으로 하여, 입력 데이터를 처리하고 출력을 예측하는 방법입니다.\n",
      "\n",
      "딥러닝은 다음과 같은 특징을 가지고 있습니다.\n",
      "\n",
      "1. **Multi-layered structure**: 딥러닝 모델은 여러 개의 층(layer)으로 구성되어 있습니다. 각 층은 이전 층에서 출력된 값을 입력받아 새로운 출력을 생성합니다.\n",
      "2. **Non-linear transformation**: 딥러닝 모델에서는 각 층 간의 연결이 비선형(non-linear)입니다. 이를 통해 복잡한 함수를 모델링할 수 있습니다.\n",
      "3. **Automatic feature learning**: 딥러닝 모델은 입력 데이터에서 특징(feature)을 자동으로 학습합니다. 따라서, 사람이 정의하지 않은 새로운 특징도 학습할 수 있습니다.\n",
      "\n",
      "딥러닝의 예로는 다음과 같은 것이 있습니다.\n",
      "\n",
      "1. **Computer Vision**: 이미지 분류, 객체 인식, 이미지 생성 등\n",
      "2. **Natural Language Processing(NLP)**: 텍스트 분석, 언어 모델링, Machine Translation 등\n",
      "3. **Speech Recognition**: 음성 인식, 음성 합성 등\n",
      "\n",
      "딥러닝의 장점은 다음과 같습니다.\n",
      "\n",
      "1. **High accuracy**: 딥러닝 모델은 복잡한 문제를 해결하는 데 높은 정확도를 보여줍니다.\n",
      "2. **Flexibility**: 딥러닝 모델은 다양한 데이터에 적용할 수 있습니다.\n",
      "3. **Scalability**: 딥러닝 모델은 대규모의 데이터에 적용할 수 있습니다.\n",
      "\n",
      "그러나 딥러닝도 다음과 같은 단점이 있습니다.\n",
      "\n",
      "1. **Computational cost**: 딥러닝 모델은 컴퓨팅 리소스를 많이 필요로 합니다.\n",
      "2. **Interpretability**: 딥러닝 모델의 출력을 이해하는 것이 어려울 수 있습니다.\n",
      "3. **Overfitting**: 딥러닝 모델이 훈련 데이터에 과적합하여 일반화 성능이 떨어질 수 있습니다.\n",
      "\n",
      "따라서, 딥러닝은 적절한 데이터, 알고리즘, 하드웨어를 선택하고, 모델을 잘 튜닝하는 것이 중요합니다."
     ]
    }
   ],
   "source": [
    "_ = chain.invoke({\"question\": \"딥러닝에 대해 설명해줘?\"})"
   ]
  },
  {
   "cell_type": "code",
   "execution_count": 28,
   "metadata": {},
   "outputs": [
    {
     "name": "stdout",
     "output_type": "stream",
     "text": [
      "뉴진스는 1990년대 중반부터 활동한 대한민국의 음악 그룹입니다. 뉴진스는 5인조 걸 그룹으로 구성되어 있으며, 멤버로는 이현우, 김혜림, 최윤영, 김지은, 장하나 등이 있습니다.\n",
      "\n",
      "뉴진스는 데뷔 초기에는 R&B와 팝을 중심으로 활동했지만, 시간이 지나면서는 다양한 음악 스타일을 실험하고 있습니다. 그룹의 노래들은 주로 사랑과 성장, 자유를 주제로 하고 있습니다.\n",
      "\n",
      "뉴진스는 1996년에 데뷔 싱글 \"New\"를 발매하여 데뷔를 했으며, 이듬해에는 첫 번째 정규 앨범 \"Rebirth\"를 발표했습니다. 그 후로는 꾸준히 활동을 하며, 2000년에는 두 번째 정규 앨범 \"The Blue Night\"를 발매했습니다.\n",
      "\n",
      "뉴진스는 2002년에 해체되었지만, 멤버들은 соль 활동을 계속하고 있습니다. 이현우는 솔로 데뷔를 했으며, 김혜림은 뮤지컬에 출연했습니다."
     ]
    }
   ],
   "source": [
    "_ = chain.invoke({\"question\": \"뉴진스에 대해서 알려줘\"})"
   ]
  },
  {
   "cell_type": "code",
   "execution_count": 29,
   "metadata": {},
   "outputs": [
    {
     "name": "stdout",
     "output_type": "stream",
     "text": [
      "You're asking about NewJeans!\n",
      "\n",
      "NewJeans is a South Korean girl group formed by ADOR (Ador Entertainment) in 2022. The group consists of five members: Minji, Hanni, Danielle, Haerin, and Hyein.\n",
      "\n",
      "Here are some interesting facts about NewJeans:\n",
      "\n",
      "1. **Debut**: NewJeans debuted on July 22, 2022, with their single \"Attention\" and have since released several successful singles and EPs.\n",
      "2. **Unique Sound**: NewJeans' music style is a blend of genres like pop, rock, R&B, and electronic dance music (EDM). Their songs often feature catchy hooks, intricate choreography, and meaningful lyrics.\n",
      "3. **Global Reach**: Despite being a relatively new group, NewJeans has gained significant attention worldwide, with fans from Asia, Europe, and the Americas.\n",
      "4. **Members' Backgrounds**: The members come from diverse backgrounds: Minji is a former trainee under SM Entertainment, Hanni is a Korean-American singer-songwriter, Danielle is an American-Korean dancer, Haerin is a former member of the girl group ITZY's dance team, and Hyein is a talented vocalist who has participated in various music shows.\n",
      "5. **Concept**: NewJeans' concept revolves around the idea of \"new jeans\" – fresh, youthful energy, and a sense of freedom. Their music and performances aim to evoke feelings of excitement, joy, and empowerment.\n",
      "\n",
      "What would you like to know more about NewJeans?"
     ]
    }
   ],
   "source": [
    "# 주제를 기반으로 짧은 농담을 요청하는 프롬프트 템플릿을 생성합니다.\n",
    "prompt = ChatPromptTemplate.from_template(\n",
    "    \"Answer the following question.\\n\\nQuestion: {question}\\n\\nAnswer:\"\n",
    ")\n",
    "\n",
    "# LangChain 표현식 언어 체인 구문을 사용합니다.\n",
    "chain = prompt | llm | StrOutputParser()\n",
    "\n",
    "# 간결성을 위해 응답은 터미널에 출력됩니다.\n",
    "# 프로덕션 환경에서 애플리케이션을 배포하기 위해 LangServe를 사용할 수 있습니다.\n",
    "_ = chain.invoke({\"question\": \"뉴진스에 대해 알려줘\"})"
   ]
  }
 ],
 "metadata": {
  "kernelspec": {
   "display_name": "py-test",
   "language": "python",
   "name": "python3"
  },
  "language_info": {
   "codemirror_mode": {
    "name": "ipython",
    "version": 3
   },
   "file_extension": ".py",
   "mimetype": "text/x-python",
   "name": "python",
   "nbconvert_exporter": "python",
   "pygments_lexer": "ipython3",
   "version": "3.10.13"
  }
 },
 "nbformat": 4,
 "nbformat_minor": 2
}
